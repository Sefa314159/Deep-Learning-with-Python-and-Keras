{
 "cells": [
  {
   "cell_type": "code",
   "execution_count": 1,
   "metadata": {},
   "outputs": [],
   "source": [
    "%matplotlib inline\n",
    "import matplotlib.pyplot as plt\n",
    "import pandas as pd\n",
    "import numpy as np"
   ]
  },
  {
   "cell_type": "code",
   "execution_count": 2,
   "metadata": {},
   "outputs": [
    {
     "data": {
      "text/html": [
       "<div>\n",
       "<style scoped>\n",
       "    .dataframe tbody tr th:only-of-type {\n",
       "        vertical-align: middle;\n",
       "    }\n",
       "\n",
       "    .dataframe tbody tr th {\n",
       "        vertical-align: top;\n",
       "    }\n",
       "\n",
       "    .dataframe thead th {\n",
       "        text-align: right;\n",
       "    }\n",
       "</style>\n",
       "<table border=\"1\" class=\"dataframe\">\n",
       "  <thead>\n",
       "    <tr style=\"text-align: right;\">\n",
       "      <th></th>\n",
       "      <th>Gender</th>\n",
       "      <th>Height</th>\n",
       "      <th>Weight</th>\n",
       "    </tr>\n",
       "  </thead>\n",
       "  <tbody>\n",
       "    <tr>\n",
       "      <td>0</td>\n",
       "      <td>Male</td>\n",
       "      <td>73.847017</td>\n",
       "      <td>241.893563</td>\n",
       "    </tr>\n",
       "    <tr>\n",
       "      <td>1</td>\n",
       "      <td>Male</td>\n",
       "      <td>68.781904</td>\n",
       "      <td>162.310473</td>\n",
       "    </tr>\n",
       "    <tr>\n",
       "      <td>2</td>\n",
       "      <td>Male</td>\n",
       "      <td>74.110105</td>\n",
       "      <td>212.740856</td>\n",
       "    </tr>\n",
       "    <tr>\n",
       "      <td>3</td>\n",
       "      <td>Male</td>\n",
       "      <td>71.730978</td>\n",
       "      <td>220.042470</td>\n",
       "    </tr>\n",
       "    <tr>\n",
       "      <td>4</td>\n",
       "      <td>Male</td>\n",
       "      <td>69.881796</td>\n",
       "      <td>206.349801</td>\n",
       "    </tr>\n",
       "  </tbody>\n",
       "</table>\n",
       "</div>"
      ],
      "text/plain": [
       "  Gender     Height      Weight\n",
       "0   Male  73.847017  241.893563\n",
       "1   Male  68.781904  162.310473\n",
       "2   Male  74.110105  212.740856\n",
       "3   Male  71.730978  220.042470\n",
       "4   Male  69.881796  206.349801"
      ]
     },
     "execution_count": 2,
     "metadata": {},
     "output_type": "execute_result"
    }
   ],
   "source": [
    "df = pd.read_csv('weight-height.csv')\n",
    "\n",
    "df.head()"
   ]
  },
  {
   "cell_type": "code",
   "execution_count": 3,
   "metadata": {},
   "outputs": [
    {
     "name": "stderr",
     "output_type": "stream",
     "text": [
      "Using TensorFlow backend.\n"
     ]
    }
   ],
   "source": [
    "from keras.models import Sequential\n",
    "from keras.layers import Dense\n",
    "from keras.optimizers import Adam, SGD"
   ]
  },
  {
   "cell_type": "code",
   "execution_count": 5,
   "metadata": {},
   "outputs": [
    {
     "name": "stderr",
     "output_type": "stream",
     "text": [
      "W1019 15:43:34.549663  4952 deprecation_wrapper.py:119] From C:\\Users\\Sefa3\\Anaconda3\\lib\\site-packages\\keras\\backend\\tensorflow_backend.py:1033: The name tf.assign_add is deprecated. Please use tf.compat.v1.assign_add instead.\n",
      "\n",
      "W1019 15:43:34.594541  4952 deprecation_wrapper.py:119] From C:\\Users\\Sefa3\\Anaconda3\\lib\\site-packages\\keras\\backend\\tensorflow_backend.py:1020: The name tf.assign is deprecated. Please use tf.compat.v1.assign instead.\n",
      "\n"
     ]
    },
    {
     "name": "stdout",
     "output_type": "stream",
     "text": [
      "Epoch 1/40\n",
      "10000/10000 [==============================] - 0s 31us/step - loss: 1393.7018\n",
      "Epoch 2/40\n",
      "10000/10000 [==============================] - 0s 24us/step - loss: 556.8769\n",
      "Epoch 3/40\n",
      "10000/10000 [==============================] - 0s 18us/step - loss: 542.1362\n",
      "Epoch 4/40\n",
      "10000/10000 [==============================] - 0s 18us/step - loss: 509.0544\n",
      "Epoch 5/40\n",
      "10000/10000 [==============================] - 0s 23us/step - loss: 464.0416\n",
      "Epoch 6/40\n",
      "10000/10000 [==============================] - 0s 17us/step - loss: 424.3883\n",
      "Epoch 7/40\n",
      "10000/10000 [==============================] - 0s 17us/step - loss: 381.8331\n",
      "Epoch 8/40\n",
      "10000/10000 [==============================] - 0s 17us/step - loss: 341.5161\n",
      "Epoch 9/40\n",
      "10000/10000 [==============================] - 0s 19us/step - loss: 338.4961\n",
      "Epoch 10/40\n",
      "10000/10000 [==============================] - 0s 19us/step - loss: 302.9737\n",
      "Epoch 11/40\n",
      "10000/10000 [==============================] - 0s 23us/step - loss: 271.6513\n",
      "Epoch 12/40\n",
      "10000/10000 [==============================] - 0s 21us/step - loss: 257.8817\n",
      "Epoch 13/40\n",
      "10000/10000 [==============================] - 0s 25us/step - loss: 245.2051\n",
      "Epoch 14/40\n",
      "10000/10000 [==============================] - 0s 30us/step - loss: 223.1768\n",
      "Epoch 15/40\n",
      "10000/10000 [==============================] - 0s 23us/step - loss: 212.8549\n",
      "Epoch 16/40\n",
      "10000/10000 [==============================] - 0s 21us/step - loss: 217.4798\n",
      "Epoch 17/40\n",
      "10000/10000 [==============================] - 0s 19us/step - loss: 195.6450\n",
      "Epoch 18/40\n",
      "10000/10000 [==============================] - 0s 19us/step - loss: 197.0987\n",
      "Epoch 19/40\n",
      "10000/10000 [==============================] - 0s 20us/step - loss: 180.7165\n",
      "Epoch 20/40\n",
      "10000/10000 [==============================] - 0s 19us/step - loss: 184.7352\n",
      "Epoch 21/40\n",
      "10000/10000 [==============================] - 0s 22us/step - loss: 180.9152\n",
      "Epoch 22/40\n",
      "10000/10000 [==============================] - 0s 21us/step - loss: 180.0041\n",
      "Epoch 23/40\n",
      "10000/10000 [==============================] - 0s 18us/step - loss: 177.3295\n",
      "Epoch 24/40\n",
      "10000/10000 [==============================] - 0s 17us/step - loss: 185.9874\n",
      "Epoch 25/40\n",
      "10000/10000 [==============================] - 0s 20us/step - loss: 169.5833\n",
      "Epoch 26/40\n",
      "10000/10000 [==============================] - 0s 18us/step - loss: 176.2807\n",
      "Epoch 27/40\n",
      "10000/10000 [==============================] - 0s 20us/step - loss: 181.1917\n",
      "Epoch 28/40\n",
      "10000/10000 [==============================] - 0s 19us/step - loss: 168.4960\n",
      "Epoch 29/40\n",
      "10000/10000 [==============================] - 0s 19us/step - loss: 183.7173\n",
      "Epoch 30/40\n",
      "10000/10000 [==============================] - 0s 20us/step - loss: 173.1999\n",
      "Epoch 31/40\n",
      "10000/10000 [==============================] - 0s 20us/step - loss: 165.2819\n",
      "Epoch 32/40\n",
      "10000/10000 [==============================] - 0s 20us/step - loss: 174.8888\n",
      "Epoch 33/40\n",
      "10000/10000 [==============================] - 0s 19us/step - loss: 179.1940\n",
      "Epoch 34/40\n",
      "10000/10000 [==============================] - 0s 19us/step - loss: 174.3262\n",
      "Epoch 35/40\n",
      "10000/10000 [==============================] - 0s 23us/step - loss: 172.7647\n",
      "Epoch 36/40\n",
      "10000/10000 [==============================] - 0s 20us/step - loss: 178.7677\n",
      "Epoch 37/40\n",
      "10000/10000 [==============================] - 0s 19us/step - loss: 183.9769\n",
      "Epoch 38/40\n",
      "10000/10000 [==============================] - 0s 20us/step - loss: 179.3611\n",
      "Epoch 39/40\n",
      "10000/10000 [==============================] - 0s 20us/step - loss: 175.7859\n",
      "Epoch 40/40\n",
      "10000/10000 [==============================] - 0s 20us/step - loss: 174.5229\n"
     ]
    },
    {
     "data": {
      "text/plain": [
       "<keras.callbacks.History at 0x291ae048b38>"
      ]
     },
     "execution_count": 5,
     "metadata": {},
     "output_type": "execute_result"
    }
   ],
   "source": [
    "model = Sequential()\n",
    "\n",
    "model.add(Dense(1, input_shape = (1, )))\n",
    "\n",
    "model.compile(Adam(lr = 0.8), 'mean_squared_error')\n",
    "\n",
    "X = df[['Height']].values\n",
    "\n",
    "y_true = df['Weight'].values\n",
    "\n",
    "model.fit(X, y_true, epochs = 40)"
   ]
  },
  {
   "cell_type": "code",
   "execution_count": 9,
   "metadata": {},
   "outputs": [],
   "source": [
    "y_pred = model.predict(X)"
   ]
  },
  {
   "cell_type": "code",
   "execution_count": 19,
   "metadata": {},
   "outputs": [],
   "source": [
    "W, B = model.get_weights()"
   ]
  },
  {
   "cell_type": "markdown",
   "metadata": {},
   "source": [
    "---------"
   ]
  },
  {
   "cell_type": "markdown",
   "metadata": {},
   "source": [
    "# Evaluating Model Performance"
   ]
  },
  {
   "cell_type": "code",
   "execution_count": 20,
   "metadata": {},
   "outputs": [],
   "source": [
    "from sklearn.metrics import r2_score"
   ]
  },
  {
   "cell_type": "code",
   "execution_count": 21,
   "metadata": {},
   "outputs": [
    {
     "name": "stdout",
     "output_type": "stream",
     "text": [
      "The R2 score is 0.715\n"
     ]
    }
   ],
   "source": [
    "print(\"The R2 score is {:0.3f}\".format(r2_score(y_true, y_pred)))"
   ]
  },
  {
   "cell_type": "markdown",
   "metadata": {},
   "source": [
    "## Train Test Split"
   ]
  },
  {
   "cell_type": "code",
   "execution_count": 22,
   "metadata": {},
   "outputs": [],
   "source": [
    "from sklearn.model_selection import train_test_split"
   ]
  },
  {
   "cell_type": "code",
   "execution_count": 23,
   "metadata": {},
   "outputs": [],
   "source": [
    "X_train, X_test, y_train, y_test = train_test_split(X, y_true, test_size = 0.2)"
   ]
  },
  {
   "cell_type": "code",
   "execution_count": 24,
   "metadata": {},
   "outputs": [
    {
     "data": {
      "text/plain": [
       "(8000, 1)"
      ]
     },
     "execution_count": 24,
     "metadata": {},
     "output_type": "execute_result"
    }
   ],
   "source": [
    "X_train.shape"
   ]
  },
  {
   "cell_type": "code",
   "execution_count": 25,
   "metadata": {},
   "outputs": [
    {
     "data": {
      "text/plain": [
       "(2000, 1)"
      ]
     },
     "execution_count": 25,
     "metadata": {},
     "output_type": "execute_result"
    }
   ],
   "source": [
    "X_test.shape"
   ]
  },
  {
   "cell_type": "code",
   "execution_count": 26,
   "metadata": {},
   "outputs": [
    {
     "data": {
      "text/plain": [
       "(8000,)"
      ]
     },
     "execution_count": 26,
     "metadata": {},
     "output_type": "execute_result"
    }
   ],
   "source": [
    "y_train.shape"
   ]
  },
  {
   "cell_type": "code",
   "execution_count": 27,
   "metadata": {},
   "outputs": [
    {
     "data": {
      "text/plain": [
       "(2000,)"
      ]
     },
     "execution_count": 27,
     "metadata": {},
     "output_type": "execute_result"
    }
   ],
   "source": [
    "y_test.shape"
   ]
  },
  {
   "cell_type": "code",
   "execution_count": 29,
   "metadata": {},
   "outputs": [
    {
     "data": {
      "text/plain": [
       "<keras.callbacks.History at 0x291b0182e80>"
      ]
     },
     "execution_count": 29,
     "metadata": {},
     "output_type": "execute_result"
    }
   ],
   "source": [
    "# set weights of our model\n",
    "\n",
    "W[0, 0] = 0.0\n",
    "\n",
    "B[0] = 0.0\n",
    "\n",
    "model.set_weights((W, B))\n",
    "\n",
    "model.fit(X_train, y_train, epochs = 50, verbose = 0)"
   ]
  },
  {
   "cell_type": "code",
   "execution_count": 31,
   "metadata": {},
   "outputs": [],
   "source": [
    "# ravel : flats the array, column array --> single array\n",
    "\n",
    "y_train_pred = model.predict(X_train).ravel()\n",
    "\n",
    "y_test_pred  = model.predict(X_test).ravel()"
   ]
  },
  {
   "cell_type": "code",
   "execution_count": 32,
   "metadata": {},
   "outputs": [],
   "source": [
    "from sklearn.metrics import mean_squared_error as mse"
   ]
  },
  {
   "cell_type": "code",
   "execution_count": 33,
   "metadata": {},
   "outputs": [
    {
     "name": "stdout",
     "output_type": "stream",
     "text": [
      "The Mean Squared Error on the Train set is 153.95\n",
      "The Mean Squared Error on the Test set is 155.84\n"
     ]
    }
   ],
   "source": [
    "print(\"The Mean Squared Error on the Train set is {:0.2f}\".format(mse(y_train, y_train_pred)))\n",
    "\n",
    "print(\"The Mean Squared Error on the Test set is {:0.2f}\".format(mse(y_test, y_test_pred)))"
   ]
  },
  {
   "cell_type": "code",
   "execution_count": 34,
   "metadata": {},
   "outputs": [
    {
     "name": "stdout",
     "output_type": "stream",
     "text": [
      "The R2 score on the Train set is:\t0.851\n",
      "The R2 score on the Test set is:\t0.846\n"
     ]
    }
   ],
   "source": [
    "print(\"The R2 score on the Train set is:\\t{:0.3f}\".format(r2_score(y_train, y_train_pred)))\n",
    "\n",
    "print(\"The R2 score on the Test set is:\\t{:0.3f}\".format(r2_score(y_test, y_test_pred)))"
   ]
  },
  {
   "cell_type": "code",
   "execution_count": null,
   "metadata": {},
   "outputs": [],
   "source": []
  }
 ],
 "metadata": {
  "kernelspec": {
   "display_name": "Python 3",
   "language": "python",
   "name": "python3"
  },
  "language_info": {
   "codemirror_mode": {
    "name": "ipython",
    "version": 3
   },
   "file_extension": ".py",
   "mimetype": "text/x-python",
   "name": "python",
   "nbconvert_exporter": "python",
   "pygments_lexer": "ipython3",
   "version": "3.7.3"
  }
 },
 "nbformat": 4,
 "nbformat_minor": 4
}
